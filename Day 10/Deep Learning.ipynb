{
 "cells": [
  {
   "cell_type": "code",
   "execution_count": 7,
   "metadata": {},
   "outputs": [
    {
     "name": "stderr",
     "output_type": "stream",
     "text": [
      "Using TensorFlow backend.\n"
     ]
    }
   ],
   "source": [
    "from keras.models import Sequential\n",
    "from keras.layers import Dense\n",
    "from keras.optimizers import Adam,SGD"
   ]
  },
  {
   "cell_type": "code",
   "execution_count": 6,
   "metadata": {},
   "outputs": [],
   "source": [
    "import pandas as pd\n",
    "import matplotlib.pyplot as plt"
   ]
  },
  {
   "cell_type": "code",
   "execution_count": 2,
   "metadata": {},
   "outputs": [],
   "source": [
    "data=pd.read_csv(\"weight-height.csv\")"
   ]
  },
  {
   "cell_type": "code",
   "execution_count": 3,
   "metadata": {},
   "outputs": [
    {
     "data": {
      "text/plain": [
       "Index(['Gender', 'Height', 'Weight'], dtype='object')"
      ]
     },
     "execution_count": 3,
     "metadata": {},
     "output_type": "execute_result"
    }
   ],
   "source": [
    "data.columns"
   ]
  },
  {
   "cell_type": "code",
   "execution_count": 5,
   "metadata": {},
   "outputs": [],
   "source": [
    "X=data.iloc[:,1]\n",
    "y=data.iloc[:,-1]"
   ]
  },
  {
   "cell_type": "code",
   "execution_count": 8,
   "metadata": {},
   "outputs": [],
   "source": [
    "model=Sequential()"
   ]
  },
  {
   "cell_type": "code",
   "execution_count": 9,
   "metadata": {},
   "outputs": [
    {
     "name": "stdout",
     "output_type": "stream",
     "text": [
      "WARNING:tensorflow:From /usr/local/lib/python3.6/site-packages/tensorflow/python/framework/op_def_library.py:263: colocate_with (from tensorflow.python.framework.ops) is deprecated and will be removed in a future version.\n",
      "Instructions for updating:\n",
      "Colocations handled automatically by placer.\n"
     ]
    }
   ],
   "source": [
    "# units : y\n",
    "# input_shape : x\n",
    "# Dense():hidden layer\n",
    "model.add(Dense(units=1 , input_shape=(1,)))"
   ]
  },
  {
   "cell_type": "code",
   "execution_count": 10,
   "metadata": {},
   "outputs": [
    {
     "name": "stdout",
     "output_type": "stream",
     "text": [
      "_________________________________________________________________\n",
      "Layer (type)                 Output Shape              Param #   \n",
      "=================================================================\n",
      "dense_1 (Dense)              (None, 1)                 2         \n",
      "=================================================================\n",
      "Total params: 2\n",
      "Trainable params: 2\n",
      "Non-trainable params: 0\n",
      "_________________________________________________________________\n"
     ]
    }
   ],
   "source": [
    "model.summary()"
   ]
  },
  {
   "cell_type": "code",
   "execution_count": 15,
   "metadata": {},
   "outputs": [],
   "source": [
    "model.compile(optimizer=SGD(),loss=\"mean_squared_error\")"
   ]
  },
  {
   "cell_type": "code",
   "execution_count": 12,
   "metadata": {},
   "outputs": [
    {
     "data": {
      "text/plain": [
       "<matplotlib.collections.PathCollection at 0x7f5241c8ac88>"
      ]
     },
     "execution_count": 12,
     "metadata": {},
     "output_type": "execute_result"
    },
    {
     "data": {
      "image/png": "[encoded data removed]",
      "text/plain": [
       "<Figure size 432x288 with 1 Axes>"
      ]
     },
     "metadata": {
      "needs_background": "light"
     },
     "output_type": "display_data"
    }
   ],
   "source": [
    "plt.scatter(X,y)"
   ]
  },
  {
   "cell_type": "code",
   "execution_count": 13,
   "metadata": {},
   "outputs": [
    {
     "name": "stdout",
     "output_type": "stream",
     "text": [
      "WARNING:tensorflow:From /usr/local/lib/python3.6/site-packages/tensorflow/python/ops/math_ops.py:3066: to_int32 (from tensorflow.python.ops.math_ops) is deprecated and will be removed in a future version.\n",
      "Instructions for updating:\n",
      "Use tf.cast instead.\n",
      "Epoch 1/50\n",
      "10000/10000 [==============================] - 2s 179us/step - loss: nan\n",
      "Epoch 2/50\n",
      "10000/10000 [==============================] - 1s 91us/step - loss: nan\n",
      "Epoch 3/50\n",
      "10000/10000 [==============================] - 1s 109us/step - loss: nan\n",
      "Epoch 4/50\n",
      "10000/10000 [==============================] - 1s 72us/step - loss: nan\n",
      "Epoch 5/50\n",
      "10000/10000 [==============================] - 1s 106us/step - loss: nan\n",
      "Epoch 6/50\n",
      "10000/10000 [==============================] - 1s 105us/step - loss: nan\n",
      "Epoch 7/50\n",
      "10000/10000 [==============================] - 1s 89us/step - loss: nan\n",
      "Epoch 8/50\n",
      "10000/10000 [==============================] - 1s 89us/step - loss: nan\n",
      "Epoch 9/50\n",
      "10000/10000 [==============================] - 1s 90us/step - loss: nan\n",
      "Epoch 10/50\n",
      "10000/10000 [==============================] - 1s 81us/step - loss: nan\n",
      "Epoch 11/50\n",
      "10000/10000 [==============================] - 1s 98us/step - loss: nan\n",
      "Epoch 12/50\n",
      "10000/10000 [==============================] - 1s 89us/step - loss: nan\n",
      "Epoch 13/50\n",
      "10000/10000 [==============================] - 1s 89us/step - loss: nan\n",
      "Epoch 14/50\n",
      "10000/10000 [==============================] - 1s 78us/step - loss: nan\n",
      "Epoch 15/50\n",
      "10000/10000 [==============================] - 1s 86us/step - loss: nan\n",
      "Epoch 16/50\n",
      "10000/10000 [==============================] - 1s 87us/step - loss: nan\n",
      "Epoch 17/50\n",
      "10000/10000 [==============================] - 1s 84us/step - loss: nan\n",
      "Epoch 18/50\n",
      "10000/10000 [==============================] - 1s 84us/step - loss: nan\n",
      "Epoch 19/50\n",
      "10000/10000 [==============================] - 1s 120us/step - loss: nan\n",
      "Epoch 20/50\n",
      "10000/10000 [==============================] - 1s 67us/step - loss: nan\n",
      "Epoch 21/50\n",
      "10000/10000 [==============================] - 1s 81us/step - loss: nan\n",
      "Epoch 22/50\n",
      "10000/10000 [==============================] - 1s 96us/step - loss: nan\n",
      "Epoch 23/50\n",
      "10000/10000 [==============================] - 1s 112us/step - loss: nan\n",
      "Epoch 24/50\n",
      "10000/10000 [==============================] - 1s 92us/step - loss: nan\n",
      "Epoch 25/50\n",
      "10000/10000 [==============================] - 1s 87us/step - loss: nan\n",
      "Epoch 26/50\n",
      "10000/10000 [==============================] - 1s 92us/step - loss: nan\n",
      "Epoch 27/50\n",
      "10000/10000 [==============================] - 1s 102us/step - loss: nan\n",
      "Epoch 28/50\n",
      "10000/10000 [==============================] - 1s 62us/step - loss: nan\n",
      "Epoch 29/50\n",
      "10000/10000 [==============================] - 1s 66us/step - loss: nan\n",
      "Epoch 30/50\n",
      "10000/10000 [==============================] - 1s 70us/step - loss: nan\n",
      "Epoch 31/50\n",
      "10000/10000 [==============================] - 1s 70us/step - loss: nan\n",
      "Epoch 32/50\n",
      "10000/10000 [==============================] - 1s 65us/step - loss: nan\n",
      "Epoch 33/50\n",
      "10000/10000 [==============================] - 1s 74us/step - loss: nan\n",
      "Epoch 34/50\n",
      "10000/10000 [==============================] - 1s 78us/step - loss: nan\n",
      "Epoch 35/50\n",
      "10000/10000 [==============================] - 1s 96us/step - loss: nan\n",
      "Epoch 36/50\n",
      "10000/10000 [==============================] - 1s 71us/step - loss: nan\n",
      "Epoch 37/50\n",
      "10000/10000 [==============================] - 1s 59us/step - loss: nan\n",
      "Epoch 38/50\n",
      "10000/10000 [==============================] - 1s 79us/step - loss: nan\n",
      "Epoch 39/50\n",
      "10000/10000 [==============================] - 1s 64us/step - loss: nan\n",
      "Epoch 40/50\n",
      "10000/10000 [==============================] - 1s 64us/step - loss: nan\n",
      "Epoch 41/50\n",
      "10000/10000 [==============================] - 1s 64us/step - loss: nan\n",
      "Epoch 42/50\n",
      "10000/10000 [==============================] - 1s 65us/step - loss: nan\n",
      "Epoch 43/50\n",
      "10000/10000 [==============================] - 1s 75us/step - loss: nan\n",
      "Epoch 44/50\n",
      "10000/10000 [==============================] - 1s 63us/step - loss: nan\n",
      "Epoch 45/50\n",
      "10000/10000 [==============================] - 1s 64us/step - loss: nan\n",
      "Epoch 46/50\n",
      "10000/10000 [==============================] - 1s 61us/step - loss: nan\n",
      "Epoch 47/50\n",
      "10000/10000 [==============================] - 1s 95us/step - loss: nan\n",
      "Epoch 48/50\n",
      "10000/10000 [==============================] - 1s 98us/step - loss: nan\n",
      "Epoch 49/50\n",
      "10000/10000 [==============================] - 1s 112us/step - loss: nan\n",
      "Epoch 50/50\n",
      "10000/10000 [==============================] - 1s 109us/step - loss: nan\n"
     ]
    },
    {
     "data": {
      "text/plain": [
       "<keras.callbacks.History at 0x7f5241be3898>"
      ]
     },
     "execution_count": 13,
     "metadata": {},
     "output_type": "execute_result"
    }
   ],
   "source": [
    "model.fit(X,y,epochs=50)"
   ]
  },
  {
   "cell_type": "code",
   "execution_count": 14,
   "metadata": {},
   "outputs": [
    {
     "name": "stdout",
     "output_type": "stream",
     "text": [
      "_________________________________________________________________\n",
      "Layer (type)                 Output Shape              Param #   \n",
      "=================================================================\n",
      "dense_2 (Dense)              (None, 1)                 2         \n",
      "=================================================================\n",
      "Total params: 2\n",
      "Trainable params: 2\n",
      "Non-trainable params: 0\n",
      "_________________________________________________________________\n"
     ]
    }
   ],
   "source": [
    "model2=Sequential()\n",
    "model2.add(Dense(units=1,input_shape=(1,)))\n",
    "model2.summary()"
   ]
  },
  {
   "cell_type": "code",
   "execution_count": 16,
   "metadata": {},
   "outputs": [],
   "source": [
    "model2.compile(optimizer=Adam(),loss=\"mean_squared_error\")"
   ]
  },
  {
   "cell_type": "code",
   "execution_count": 18,
   "metadata": {},
   "outputs": [
    {
     "name": "stdout",
     "output_type": "stream",
     "text": [
      "Epoch 1/50\n",
      "10000/10000 [==============================] - 1s 74us/step - loss: 12157.7050\n",
      "Epoch 2/50\n",
      "10000/10000 [==============================] - 1s 85us/step - loss: 8604.8804\n",
      "Epoch 3/50\n",
      "10000/10000 [==============================] - 1s 97us/step - loss: 5934.4995\n",
      "Epoch 4/50\n",
      "10000/10000 [==============================] - 1s 94us/step - loss: 3988.7449\n",
      "Epoch 5/50\n",
      "10000/10000 [==============================] - 1s 81us/step - loss: 2629.4439\n",
      "Epoch 6/50\n",
      "10000/10000 [==============================] - 1s 74us/step - loss: 1727.3475\n",
      "Epoch 7/50\n",
      "10000/10000 [==============================] - 1s 98us/step - loss: 1167.0928\n",
      "Epoch 8/50\n",
      "10000/10000 [==============================] - 1s 103us/step - loss: 847.0735\n",
      "Epoch 9/50\n",
      "10000/10000 [==============================] - 1s 84us/step - loss: 682.2747\n",
      "Epoch 10/50\n",
      "10000/10000 [==============================] - 1s 106us/step - loss: 607.5892\n",
      "Epoch 11/50\n",
      "10000/10000 [==============================] - 1s 93us/step - loss: 578.6874\n",
      "Epoch 12/50\n",
      "10000/10000 [==============================] - 1s 92us/step - loss: 569.0837\n",
      "Epoch 13/50\n",
      "10000/10000 [==============================] - 1s 99us/step - loss: 566.5281\n",
      "Epoch 14/50\n",
      "10000/10000 [==============================] - 1s 111us/step - loss: 566.0254\n",
      "Epoch 15/50\n",
      "10000/10000 [==============================] - 1s 86us/step - loss: 565.9250\n",
      "Epoch 16/50\n",
      "10000/10000 [==============================] - 1s 114us/step - loss: 565.9122\n",
      "Epoch 17/50\n",
      "10000/10000 [==============================] - 1s 114us/step - loss: 565.8307\n",
      "Epoch 18/50\n",
      "10000/10000 [==============================] - 1s 87us/step - loss: 565.7722\n",
      "Epoch 19/50\n",
      "10000/10000 [==============================] - 1s 75us/step - loss: 565.6718\n",
      "Epoch 20/50\n",
      "10000/10000 [==============================] - 1s 73us/step - loss: 565.6035\n",
      "Epoch 21/50\n",
      "10000/10000 [==============================] - 1s 71us/step - loss: 565.4897\n",
      "Epoch 22/50\n",
      "10000/10000 [==============================] - 1s 74us/step - loss: 565.4655\n",
      "Epoch 23/50\n",
      "10000/10000 [==============================] - 1s 105us/step - loss: 565.2398\n",
      "Epoch 24/50\n",
      "10000/10000 [==============================] - 1s 86us/step - loss: 565.1836\n",
      "Epoch 25/50\n",
      "10000/10000 [==============================] - 1s 101us/step - loss: 565.0736\n",
      "Epoch 26/50\n",
      "10000/10000 [==============================] - 1s 119us/step - loss: 564.9860\n",
      "Epoch 27/50\n",
      "10000/10000 [==============================] - 1s 86us/step - loss: 564.6230\n",
      "Epoch 28/50\n",
      "10000/10000 [==============================] - 1s 93us/step - loss: 564.4395\n",
      "Epoch 29/50\n",
      "10000/10000 [==============================] - 1s 96us/step - loss: 564.2379\n",
      "Epoch 30/50\n",
      "10000/10000 [==============================] - 1s 67us/step - loss: 564.2359\n",
      "Epoch 31/50\n",
      "10000/10000 [==============================] - 1s 110us/step - loss: 563.9640\n",
      "Epoch 32/50\n",
      "10000/10000 [==============================] - 1s 101us/step - loss: 563.7765\n",
      "Epoch 33/50\n",
      "10000/10000 [==============================] - 1s 95us/step - loss: 563.6590\n",
      "Epoch 34/50\n",
      "10000/10000 [==============================] - 1s 98us/step - loss: 563.4506\n",
      "Epoch 35/50\n",
      "10000/10000 [==============================] - 1s 107us/step - loss: 563.2796\n",
      "Epoch 36/50\n",
      "10000/10000 [==============================] - 1s 80us/step - loss: 563.0821\n",
      "Epoch 37/50\n",
      "10000/10000 [==============================] - 1s 81us/step - loss: 562.7607\n",
      "Epoch 38/50\n",
      "10000/10000 [==============================] - 1s 79us/step - loss: 562.6884\n",
      "Epoch 39/50\n",
      "10000/10000 [==============================] - 1s 99us/step - loss: 562.5662\n",
      "Epoch 40/50\n",
      "10000/10000 [==============================] - 1s 105us/step - loss: 562.2209\n",
      "Epoch 41/50\n",
      "10000/10000 [==============================] - 1s 70us/step - loss: 562.0438\n",
      "Epoch 42/50\n",
      "10000/10000 [==============================] - 1s 92us/step - loss: 561.9002\n",
      "Epoch 43/50\n",
      "10000/10000 [==============================] - 1s 102us/step - loss: 561.6847\n",
      "Epoch 44/50\n",
      "10000/10000 [==============================] - 1s 136us/step - loss: 561.5405\n",
      "Epoch 45/50\n",
      "10000/10000 [==============================] - 1s 120us/step - loss: 561.2889\n",
      "Epoch 46/50\n",
      "10000/10000 [==============================] - 1s 109us/step - loss: 561.0363\n",
      "Epoch 47/50\n",
      "10000/10000 [==============================] - 1s 97us/step - loss: 560.8311\n",
      "Epoch 48/50\n",
      "10000/10000 [==============================] - 1s 120us/step - loss: 560.7901\n",
      "Epoch 49/50\n",
      "10000/10000 [==============================] - 1s 109us/step - loss: 560.5334\n",
      "Epoch 50/50\n",
      "10000/10000 [==============================] - 1s 99us/step - loss: 560.4226\n"
     ]
    },
    {
     "data": {
      "text/plain": [
       "<keras.callbacks.History at 0x7f524005c518>"
      ]
     },
     "execution_count": 18,
     "metadata": {},
     "output_type": "execute_result"
    }
   ],
   "source": [
    "model2.fit(X,y,epochs=50)"
   ]
  },
  {
   "cell_type": "code",
   "execution_count": null,
   "metadata": {},
   "outputs": [],
   "source": []
  },
  {
   "cell_type": "code",
   "execution_count": null,
   "metadata": {},
   "outputs": [],
   "source": []
  },
  {
   "cell_type": "code",
   "execution_count": null,
   "metadata": {},
   "outputs": [],
   "source": []
  }
 ],
 "metadata": {
  "kernelspec": {
   "display_name": "Python 3",
   "language": "python",
   "name": "python3"
  },
  "language_info": {
   "codemirror_mode": {
    "name": "ipython",
    "version": 3
   },
   "file_extension": ".py",
   "mimetype": "text/x-python",
   "name": "python",
   "nbconvert_exporter": "python",
   "pygments_lexer": "ipython3",
   "version": "3.6.6"
  }
 },
 "nbformat": 4,
 "nbformat_minor": 2
}
