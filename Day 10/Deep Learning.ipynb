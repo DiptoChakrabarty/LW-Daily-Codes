{
 "cells": [
  {
   "cell_type": "code",
   "execution_count": 1,
   "metadata": {},
   "outputs": [
    {
     "name": "stderr",
     "output_type": "stream",
     "text": [
      "Using TensorFlow backend.\n"
     ]
    }
   ],
   "source": [
    "from keras.models import Sequential\n",
    "from keras.layers import Dense\n",
    "from keras.optimizers import Adam,SGD"
   ]
  },
  {
   "cell_type": "code",
   "execution_count": 15,
   "metadata": {},
   "outputs": [],
   "source": [
    "import pandas as pd\n",
    "import matplotlib.pyplot as plt\n",
    "from sklearn.model_selection import train_test_split"
   ]
  },
  {
   "cell_type": "code",
   "execution_count": 3,
   "metadata": {},
   "outputs": [],
   "source": [
    "data=pd.read_csv(\"weight-height.csv\")"
   ]
  },
  {
   "cell_type": "code",
   "execution_count": 4,
   "metadata": {},
   "outputs": [
    {
     "data": {
      "text/plain": [
       "Index(['Gender', 'Height', 'Weight'], dtype='object')"
      ]
     },
     "execution_count": 4,
     "metadata": {},
     "output_type": "execute_result"
    }
   ],
   "source": [
    "data.columns"
   ]
  },
  {
   "cell_type": "code",
   "execution_count": 5,
   "metadata": {},
   "outputs": [],
   "source": [
    "X=data.iloc[:,1]\n",
    "y=data.iloc[:,-1]"
   ]
  },
  {
   "cell_type": "markdown",
   "metadata": {},
   "source": [
    "# The Model "
   ]
  },
  {
   "cell_type": "code",
   "execution_count": 6,
   "metadata": {},
   "outputs": [],
   "source": [
    "model=Sequential()"
   ]
  },
  {
   "cell_type": "code",
   "execution_count": 7,
   "metadata": {},
   "outputs": [
    {
     "name": "stdout",
     "output_type": "stream",
     "text": [
      "WARNING:tensorflow:From /usr/local/lib/python3.6/site-packages/tensorflow/python/framework/op_def_library.py:263: colocate_with (from tensorflow.python.framework.ops) is deprecated and will be removed in a future version.\n",
      "Instructions for updating:\n",
      "Colocations handled automatically by placer.\n"
     ]
    }
   ],
   "source": [
    "# units : y\n",
    "# input_shape : x\n",
    "# Dense():hidden layer\n",
    "model.add(Dense(units=1 , input_shape=(1,)))"
   ]
  },
  {
   "cell_type": "code",
   "execution_count": 8,
   "metadata": {},
   "outputs": [
    {
     "name": "stdout",
     "output_type": "stream",
     "text": [
      "_________________________________________________________________\n",
      "Layer (type)                 Output Shape              Param #   \n",
      "=================================================================\n",
      "dense_1 (Dense)              (None, 1)                 2         \n",
      "=================================================================\n",
      "Total params: 2\n",
      "Trainable params: 2\n",
      "Non-trainable params: 0\n",
      "_________________________________________________________________\n"
     ]
    }
   ],
   "source": [
    "model.summary()"
   ]
  },
  {
   "cell_type": "code",
   "execution_count": 9,
   "metadata": {},
   "outputs": [],
   "source": [
    "model.compile(optimizer=SGD(),loss=\"mean_squared_error\")"
   ]
  },
  {
   "cell_type": "code",
   "execution_count": 10,
   "metadata": {},
   "outputs": [
    {
     "data": {
      "text/plain": [
       "<matplotlib.collections.PathCollection at 0x7fdbfd8b7b70>"
      ]
     },
     "execution_count": 10,
     "metadata": {},
     "output_type": "execute_result"
    },
    {
     "data": {
      "image/png": "[encoded data removed]",
      "text/plain": [
       "<Figure size 432x288 with 1 Axes>"
      ]
     },
     "metadata": {
      "needs_background": "light"
     },
     "output_type": "display_data"
    }
   ],
   "source": [
    "plt.scatter(X,y)"
   ]
  },
  {
   "cell_type": "markdown",
   "metadata": {},
   "source": [
    "# Fitting in the model\n"
   ]
  },
  {
   "cell_type": "code",
   "execution_count": 16,
   "metadata": {},
   "outputs": [],
   "source": [
    "X_train, X_test, y_train, y_test = train_test_split(X, y, test_size=0.33, random_state=42)"
   ]
  },
  {
   "cell_type": "code",
   "execution_count": 17,
   "metadata": {},
   "outputs": [
    {
     "name": "stdout",
     "output_type": "stream",
     "text": [
      "Epoch 1/50\n",
      "6700/6700 [==============================] - 1s 78us/step - loss: nan\n",
      "Epoch 2/50\n",
      "6700/6700 [==============================] - 1s 75us/step - loss: nan\n",
      "Epoch 3/50\n",
      "6700/6700 [==============================] - 1s 80us/step - loss: nan\n",
      "Epoch 4/50\n",
      "6700/6700 [==============================] - 1s 82us/step - loss: nan\n",
      "Epoch 5/50\n",
      "6700/6700 [==============================] - 1s 116us/step - loss: nan\n",
      "Epoch 6/50\n",
      "6700/6700 [==============================] - 1s 104us/step - loss: nan\n",
      "Epoch 7/50\n",
      "6700/6700 [==============================] - 0s 75us/step - loss: nan\n",
      "Epoch 8/50\n",
      "6700/6700 [==============================] - 1s 78us/step - loss: nan\n",
      "Epoch 9/50\n",
      "6700/6700 [==============================] - 1s 89us/step - loss: nan\n",
      "Epoch 10/50\n",
      "6700/6700 [==============================] - 1s 99us/step - loss: nan\n",
      "Epoch 11/50\n",
      "6700/6700 [==============================] - 1s 87us/step - loss: nan\n",
      "Epoch 12/50\n",
      "6700/6700 [==============================] - 1s 83us/step - loss: nan\n",
      "Epoch 13/50\n",
      "6700/6700 [==============================] - 1s 77us/step - loss: nan\n",
      "Epoch 14/50\n",
      "6700/6700 [==============================] - 1s 80us/step - loss: nan\n",
      "Epoch 15/50\n",
      "6700/6700 [==============================] - 1s 77us/step - loss: nan\n",
      "Epoch 16/50\n",
      "6700/6700 [==============================] - 1s 90us/step - loss: nan\n",
      "Epoch 17/50\n",
      "6700/6700 [==============================] - 1s 122us/step - loss: nan\n",
      "Epoch 18/50\n",
      "6700/6700 [==============================] - 1s 91us/step - loss: nan\n",
      "Epoch 19/50\n",
      "6700/6700 [==============================] - 1s 77us/step - loss: nan\n",
      "Epoch 20/50\n",
      "6700/6700 [==============================] - 1s 106us/step - loss: nan\n",
      "Epoch 21/50\n",
      "6700/6700 [==============================] - 1s 79us/step - loss: nan\n",
      "Epoch 22/50\n",
      "6700/6700 [==============================] - 1s 80us/step - loss: nan\n",
      "Epoch 23/50\n",
      "6700/6700 [==============================] - 1s 93us/step - loss: nan\n",
      "Epoch 24/50\n",
      "6700/6700 [==============================] - 0s 72us/step - loss: nan\n",
      "Epoch 25/50\n",
      "6700/6700 [==============================] - 0s 68us/step - loss: nan\n",
      "Epoch 26/50\n",
      "6700/6700 [==============================] - 1s 96us/step - loss: nan\n",
      "Epoch 27/50\n",
      "6700/6700 [==============================] - 1s 105us/step - loss: nan\n",
      "Epoch 28/50\n",
      "6700/6700 [==============================] - 1s 84us/step - loss: nan\n",
      "Epoch 29/50\n",
      "6700/6700 [==============================] - 0s 74us/step - loss: nan\n",
      "Epoch 30/50\n",
      "6700/6700 [==============================] - 1s 89us/step - loss: nan\n",
      "Epoch 31/50\n",
      "6700/6700 [==============================] - 1s 77us/step - loss: nan\n",
      "Epoch 32/50\n",
      "6700/6700 [==============================] - 1s 79us/step - loss: nan\n",
      "Epoch 33/50\n",
      "6700/6700 [==============================] - 1s 76us/step - loss: nan\n",
      "Epoch 34/50\n",
      "6700/6700 [==============================] - 0s 67us/step - loss: nan\n",
      "Epoch 35/50\n",
      "6700/6700 [==============================] - 1s 97us/step - loss: nan\n",
      "Epoch 36/50\n",
      "6700/6700 [==============================] - 1s 126us/step - loss: nan\n",
      "Epoch 37/50\n",
      "6700/6700 [==============================] - 1s 120us/step - loss: nan\n",
      "Epoch 38/50\n",
      "6700/6700 [==============================] - 1s 116us/step - loss: nan\n",
      "Epoch 39/50\n",
      "6700/6700 [==============================] - 1s 123us/step - loss: nan\n",
      "Epoch 40/50\n",
      "6700/6700 [==============================] - 1s 100us/step - loss: nan\n",
      "Epoch 41/50\n",
      "6700/6700 [==============================] - 1s 79us/step - loss: nan\n",
      "Epoch 42/50\n",
      "6700/6700 [==============================] - 0s 74us/step - loss: nan\n",
      "Epoch 43/50\n",
      "6700/6700 [==============================] - 1s 78us/step - loss: nan\n",
      "Epoch 44/50\n",
      "6700/6700 [==============================] - 1s 104us/step - loss: nan\n",
      "Epoch 45/50\n",
      "6700/6700 [==============================] - 0s 72us/step - loss: nan\n",
      "Epoch 46/50\n",
      "6700/6700 [==============================] - 0s 68us/step - loss: nan\n",
      "Epoch 47/50\n",
      "6700/6700 [==============================] - 0s 67us/step - loss: nan\n",
      "Epoch 48/50\n",
      "6700/6700 [==============================] - 1s 80us/step - loss: nan\n",
      "Epoch 49/50\n",
      "6700/6700 [==============================] - 1s 96us/step - loss: nan\n",
      "Epoch 50/50\n",
      "6700/6700 [==============================] - 1s 99us/step - loss: nan\n"
     ]
    },
    {
     "data": {
      "text/plain": [
       "<keras.callbacks.History at 0x7fdbd32d0828>"
      ]
     },
     "execution_count": 17,
     "metadata": {},
     "output_type": "execute_result"
    }
   ],
   "source": [
    "model.fit(X_train,y_train,epochs=50)"
   ]
  },
  {
   "cell_type": "code",
   "execution_count": 12,
   "metadata": {},
   "outputs": [
    {
     "name": "stdout",
     "output_type": "stream",
     "text": [
      "_________________________________________________________________\n",
      "Layer (type)                 Output Shape              Param #   \n",
      "=================================================================\n",
      "dense_2 (Dense)              (None, 1)                 2         \n",
      "=================================================================\n",
      "Total params: 2\n",
      "Trainable params: 2\n",
      "Non-trainable params: 0\n",
      "_________________________________________________________________\n"
     ]
    }
   ],
   "source": [
    "model2=Sequential()\n",
    "model2.add(Dense(units=1,input_shape=(1,)))\n",
    "model2.summary()"
   ]
  },
  {
   "cell_type": "code",
   "execution_count": 13,
   "metadata": {},
   "outputs": [],
   "source": [
    "model2.compile(optimizer=Adam(),loss=\"mean_squared_error\")"
   ]
  },
  {
   "cell_type": "code",
   "execution_count": 18,
   "metadata": {},
   "outputs": [
    {
     "name": "stdout",
     "output_type": "stream",
     "text": [
      "Epoch 1/50\n",
      "6700/6700 [==============================] - 0s 70us/step - loss: 561.7460\n",
      "Epoch 2/50\n",
      "6700/6700 [==============================] - 1s 82us/step - loss: 561.6338\n",
      "Epoch 3/50\n",
      "6700/6700 [==============================] - 1s 82us/step - loss: 561.4310\n",
      "Epoch 4/50\n",
      "6700/6700 [==============================] - 1s 99us/step - loss: 561.4540\n",
      "Epoch 5/50\n",
      "6700/6700 [==============================] - 1s 116us/step - loss: 561.3737\n",
      "Epoch 6/50\n",
      "6700/6700 [==============================] - 1s 101us/step - loss: 561.0780\n",
      "Epoch 7/50\n",
      "6700/6700 [==============================] - 1s 99us/step - loss: 561.0039\n",
      "Epoch 8/50\n",
      "6700/6700 [==============================] - 1s 81us/step - loss: 560.8476\n",
      "Epoch 9/50\n",
      "6700/6700 [==============================] - 1s 120us/step - loss: 560.8386\n",
      "Epoch 10/50\n",
      "6700/6700 [==============================] - 1s 91us/step - loss: 560.6048\n",
      "Epoch 11/50\n",
      "6700/6700 [==============================] - 1s 111us/step - loss: 560.2887\n",
      "Epoch 12/50\n",
      "6700/6700 [==============================] - 1s 121us/step - loss: 560.4209\n",
      "Epoch 13/50\n",
      "6700/6700 [==============================] - 1s 107us/step - loss: 560.1944\n",
      "Epoch 14/50\n",
      "6700/6700 [==============================] - 1s 96us/step - loss: 560.0780\n",
      "Epoch 15/50\n",
      "6700/6700 [==============================] - 1s 84us/step - loss: 559.8512\n",
      "Epoch 16/50\n",
      "6700/6700 [==============================] - 1s 110us/step - loss: 559.8003\n",
      "Epoch 17/50\n",
      "6700/6700 [==============================] - 1s 95us/step - loss: 559.7287\n",
      "Epoch 18/50\n",
      "6700/6700 [==============================] - 1s 85us/step - loss: 559.5821\n",
      "Epoch 19/50\n",
      "6700/6700 [==============================] - 1s 110us/step - loss: 559.2754\n",
      "Epoch 20/50\n",
      "6700/6700 [==============================] - 1s 103us/step - loss: 559.3592\n",
      "Epoch 21/50\n",
      "6700/6700 [==============================] - 1s 107us/step - loss: 559.1418\n",
      "Epoch 22/50\n",
      "6700/6700 [==============================] - 1s 84us/step - loss: 558.9075\n",
      "Epoch 23/50\n",
      "6700/6700 [==============================] - 1s 102us/step - loss: 558.9048\n",
      "Epoch 24/50\n",
      "6700/6700 [==============================] - 1s 115us/step - loss: 558.7381\n",
      "Epoch 25/50\n",
      "6700/6700 [==============================] - 1s 115us/step - loss: 558.6021\n",
      "Epoch 26/50\n",
      "6700/6700 [==============================] - 1s 107us/step - loss: 558.5191\n",
      "Epoch 27/50\n",
      "6700/6700 [==============================] - 1s 102us/step - loss: 558.3640\n",
      "Epoch 28/50\n",
      "6700/6700 [==============================] - 1s 102us/step - loss: 558.2354\n",
      "Epoch 29/50\n",
      "6700/6700 [==============================] - 1s 125us/step - loss: 558.0755\n",
      "Epoch 30/50\n",
      "6700/6700 [==============================] - 1s 121us/step - loss: 557.8589\n",
      "Epoch 31/50\n",
      "6700/6700 [==============================] - 1s 123us/step - loss: 557.8674\n",
      "Epoch 32/50\n",
      "6700/6700 [==============================] - 1s 95us/step - loss: 557.6863\n",
      "Epoch 33/50\n",
      "6700/6700 [==============================] - 1s 127us/step - loss: 557.6105\n",
      "Epoch 34/50\n",
      "6700/6700 [==============================] - 1s 108us/step - loss: 557.4350\n",
      "Epoch 35/50\n",
      "6700/6700 [==============================] - 1s 94us/step - loss: 557.1171\n",
      "Epoch 36/50\n",
      "6700/6700 [==============================] - 1s 96us/step - loss: 557.2488\n",
      "Epoch 37/50\n",
      "6700/6700 [==============================] - 1s 97us/step - loss: 557.1228\n",
      "Epoch 38/50\n",
      "6700/6700 [==============================] - 1s 105us/step - loss: 556.9758\n",
      "Epoch 39/50\n",
      "6700/6700 [==============================] - 1s 93us/step - loss: 556.8300\n",
      "Epoch 40/50\n",
      "6700/6700 [==============================] - 1s 119us/step - loss: 556.6628\n",
      "Epoch 41/50\n",
      "6700/6700 [==============================] - 1s 135us/step - loss: 556.5201\n",
      "Epoch 42/50\n",
      "6700/6700 [==============================] - 1s 101us/step - loss: 556.4944\n",
      "Epoch 43/50\n",
      "6700/6700 [==============================] - 1s 122us/step - loss: 556.1371\n",
      "Epoch 44/50\n",
      "6700/6700 [==============================] - 1s 88us/step - loss: 556.1015\n",
      "Epoch 45/50\n",
      "6700/6700 [==============================] - 1s 140us/step - loss: 556.0148\n",
      "Epoch 46/50\n",
      "6700/6700 [==============================] - 1s 119us/step - loss: 555.8492\n",
      "Epoch 47/50\n",
      "6700/6700 [==============================] - 1s 84us/step - loss: 555.7905\n",
      "Epoch 48/50\n",
      "6700/6700 [==============================] - 1s 93us/step - loss: 555.6293\n",
      "Epoch 49/50\n",
      "6700/6700 [==============================] - 1s 92us/step - loss: 555.5496\n",
      "Epoch 50/50\n",
      "6700/6700 [==============================] - 1s 75us/step - loss: 555.4143\n"
     ]
    },
    {
     "data": {
      "text/plain": [
       "<keras.callbacks.History at 0x7fdbd3050f28>"
      ]
     },
     "execution_count": 18,
     "metadata": {},
     "output_type": "execute_result"
    }
   ],
   "source": [
    "model2.fit(X_train,y_train,epochs=50)"
   ]
  },
  {
   "cell_type": "code",
   "execution_count": 19,
   "metadata": {},
   "outputs": [],
   "source": [
    "y1_pred=model.predict(X_test)"
   ]
  },
  {
   "cell_type": "code",
   "execution_count": 20,
   "metadata": {},
   "outputs": [],
   "source": [
    "y2_pred=model2.predict(X_test)"
   ]
  },
  {
   "cell_type": "code",
   "execution_count": 31,
   "metadata": {},
   "outputs": [
    {
     "data": {
      "text/plain": [
       "<matplotlib.collections.PathCollection at 0x7fdbd2b76908>"
      ]
     },
     "execution_count": 31,
     "metadata": {},
     "output_type": "execute_result"
    },
    {
     "data": {
      "image/png": "[encoded data removed]",
      "text/plain": [
       "<Figure size 432x288 with 1 Axes>"
      ]
     },
     "metadata": {
      "needs_background": "light"
     },
     "output_type": "display_data"
    }
   ],
   "source": [
    "plt.scatter(X_test,y_test,color=\"green\")    #SGD model\n",
    "#plt.plot(X_test,y1_pred,color=\"red\")\n",
    "plt.scatter(X_test,y1_pred,color=\"red\")"
   ]
  },
  {
   "cell_type": "code",
   "execution_count": 27,
   "metadata": {},
   "outputs": [
    {
     "data": {
      "text/plain": [
       "[<matplotlib.lines.Line2D at 0x7fdbd2d6e240>]"
      ]
     },
     "execution_count": 27,
     "metadata": {},
     "output_type": "execute_result"
    },
    {
     "data": {
      "image/png": "[encoded data removed]",
      "text/plain": [
       "<Figure size 432x288 with 1 Axes>"
      ]
     },
     "metadata": {
      "needs_background": "light"
     },
     "output_type": "display_data"
    }
   ],
   "source": [
    "plt.scatter(X_test,y_test,color=\"green\")  #ADAM model\n",
    "plt.plot(X_test,y2_pred,color=\"red\")"
   ]
  },
  {
   "cell_type": "code",
   "execution_count": 35,
   "metadata": {},
   "outputs": [
    {
     "data": {
      "text/plain": [
       "array([[nan],\n",
       "       [nan],\n",
       "       [nan],\n",
       "       ...,\n",
       "       [nan],\n",
       "       [nan],\n",
       "       [nan]], dtype=float32)"
      ]
     },
     "execution_count": 35,
     "metadata": {},
     "output_type": "execute_result"
    }
   ],
   "source": [
    "y1_pred"
   ]
  },
  {
   "cell_type": "code",
   "execution_count": 36,
   "metadata": {},
   "outputs": [
    {
     "data": {
      "text/plain": [
       "array([[168.24002],\n",
       "       [168.59163],\n",
       "       [162.57571],\n",
       "       ...,\n",
       "       [156.53603],\n",
       "       [150.28258],\n",
       "       [152.80809]], dtype=float32)"
      ]
     },
     "execution_count": 36,
     "metadata": {},
     "output_type": "execute_result"
    }
   ],
   "source": [
    "y2_pred"
   ]
  },
  {
   "cell_type": "code",
   "execution_count": null,
   "metadata": {},
   "outputs": [],
   "source": []
  }
 ],
 "metadata": {
  "kernelspec": {
   "display_name": "Python 3",
   "language": "python",
   "name": "python3"
  },
  "language_info": {
   "codemirror_mode": {
    "name": "ipython",
    "version": 3
   },
   "file_extension": ".py",
   "mimetype": "text/x-python",
   "name": "python",
   "nbconvert_exporter": "python",
   "pygments_lexer": "ipython3",
   "version": "3.6.6"
  }
 },
 "nbformat": 4,
 "nbformat_minor": 2
}
