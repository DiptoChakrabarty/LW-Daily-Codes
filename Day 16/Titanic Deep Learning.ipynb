{
 "cells": [
  {
   "cell_type": "code",
   "execution_count": 19,
   "metadata": {},
   "outputs": [],
   "source": [
    "import pandas as pd\n",
    "import numpy as np"
   ]
  },
  {
   "cell_type": "code",
   "execution_count": 7,
   "metadata": {},
   "outputs": [],
   "source": [
    "from keras.models import Sequential\n",
    "from keras.layers import Dense\n",
    "from keras.optimizers import Adam,SGD"
   ]
  },
  {
   "cell_type": "code",
   "execution_count": 2,
   "metadata": {},
   "outputs": [],
   "source": [
    "data=pd.read_csv(\"user_visit_duration.csv\")"
   ]
  },
  {
   "cell_type": "code",
   "execution_count": 3,
   "metadata": {},
   "outputs": [
    {
     "data": {
      "text/html": [
       "<div>\n",
       "<style scoped>\n",
       "    .dataframe tbody tr th:only-of-type {\n",
       "        vertical-align: middle;\n",
       "    }\n",
       "\n",
       "    .dataframe tbody tr th {\n",
       "        vertical-align: top;\n",
       "    }\n",
       "\n",
       "    .dataframe thead th {\n",
       "        text-align: right;\n",
       "    }\n",
       "</style>\n",
       "<table border=\"1\" class=\"dataframe\">\n",
       "  <thead>\n",
       "    <tr style=\"text-align: right;\">\n",
       "      <th></th>\n",
       "      <th>Time (min)</th>\n",
       "      <th>Buy</th>\n",
       "    </tr>\n",
       "  </thead>\n",
       "  <tbody>\n",
       "    <tr>\n",
       "      <th>0</th>\n",
       "      <td>2.000000</td>\n",
       "      <td>0</td>\n",
       "    </tr>\n",
       "    <tr>\n",
       "      <th>1</th>\n",
       "      <td>0.683333</td>\n",
       "      <td>0</td>\n",
       "    </tr>\n",
       "    <tr>\n",
       "      <th>2</th>\n",
       "      <td>3.216667</td>\n",
       "      <td>1</td>\n",
       "    </tr>\n",
       "    <tr>\n",
       "      <th>3</th>\n",
       "      <td>0.900000</td>\n",
       "      <td>0</td>\n",
       "    </tr>\n",
       "    <tr>\n",
       "      <th>4</th>\n",
       "      <td>1.533333</td>\n",
       "      <td>1</td>\n",
       "    </tr>\n",
       "  </tbody>\n",
       "</table>\n",
       "</div>"
      ],
      "text/plain": [
       "   Time (min)  Buy\n",
       "0    2.000000    0\n",
       "1    0.683333    0\n",
       "2    3.216667    1\n",
       "3    0.900000    0\n",
       "4    1.533333    1"
      ]
     },
     "execution_count": 3,
     "metadata": {},
     "output_type": "execute_result"
    }
   ],
   "source": [
    "data.head()"
   ]
  },
  {
   "cell_type": "code",
   "execution_count": 5,
   "metadata": {},
   "outputs": [
    {
     "data": {
      "text/plain": [
       "<matplotlib.axes._subplots.AxesSubplot at 0x7f50bcbcf4a8>"
      ]
     },
     "execution_count": 5,
     "metadata": {},
     "output_type": "execute_result"
    },
    {
     "data": {
      "image/png": "[encoded data removed]",
      "text/plain": [
       "<Figure size 432x288 with 1 Axes>"
      ]
     },
     "metadata": {
      "needs_background": "light"
     },
     "output_type": "display_data"
    }
   ],
   "source": [
    "data.plot(kind=\"scatter\",x=\"Time (min)\",y=\"Buy\")"
   ]
  },
  {
   "cell_type": "code",
   "execution_count": 8,
   "metadata": {},
   "outputs": [],
   "source": [
    "model=Sequential()"
   ]
  },
  {
   "cell_type": "code",
   "execution_count": 9,
   "metadata": {},
   "outputs": [
    {
     "name": "stdout",
     "output_type": "stream",
     "text": [
      "WARNING:tensorflow:From /usr/local/lib/python3.6/site-packages/tensorflow/python/framework/op_def_library.py:263: colocate_with (from tensorflow.python.framework.ops) is deprecated and will be removed in a future version.\n",
      "Instructions for updating:\n",
      "Colocations handled automatically by placer.\n"
     ]
    }
   ],
   "source": [
    "model.add(Dense(units=1 , input_shape=(1,),activation=\"sigmoid\"))"
   ]
  },
  {
   "cell_type": "code",
   "execution_count": 10,
   "metadata": {},
   "outputs": [],
   "source": [
    "model.compile(optimizer=SGD(), loss=\"binary_crossentropy\",metrics=[\"accuracy\"])"
   ]
  },
  {
   "cell_type": "code",
   "execution_count": 13,
   "metadata": {},
   "outputs": [],
   "source": [
    "X=data.iloc[:,0:1]\n",
    "y=data[\"Buy\"]"
   ]
  },
  {
   "cell_type": "code",
   "execution_count": 14,
   "metadata": {},
   "outputs": [
    {
     "data": {
      "text/plain": [
       "(100, 1)"
      ]
     },
     "execution_count": 14,
     "metadata": {},
     "output_type": "execute_result"
    }
   ],
   "source": [
    "X.shape"
   ]
  },
  {
   "cell_type": "code",
   "execution_count": 15,
   "metadata": {},
   "outputs": [
    {
     "data": {
      "text/plain": [
       "(100,)"
      ]
     },
     "execution_count": 15,
     "metadata": {},
     "output_type": "execute_result"
    }
   ],
   "source": [
    "y.shape"
   ]
  },
  {
   "cell_type": "code",
   "execution_count": 16,
   "metadata": {},
   "outputs": [
    {
     "name": "stdout",
     "output_type": "stream",
     "text": [
      "WARNING:tensorflow:From /usr/local/lib/python3.6/site-packages/tensorflow/python/ops/math_ops.py:3066: to_int32 (from tensorflow.python.ops.math_ops) is deprecated and will be removed in a future version.\n",
      "Instructions for updating:\n",
      "Use tf.cast instead.\n",
      "Epoch 1/50\n",
      "100/100 [==============================] - 1s 8ms/step - loss: 0.6315 - acc: 0.5700\n",
      "Epoch 2/50\n",
      "100/100 [==============================] - 0s 111us/step - loss: 0.6305 - acc: 0.5700\n",
      "Epoch 3/50\n",
      "100/100 [==============================] - 0s 236us/step - loss: 0.6298 - acc: 0.5700\n",
      "Epoch 4/50\n",
      "100/100 [==============================] - 0s 317us/step - loss: 0.6292 - acc: 0.5700\n",
      "Epoch 5/50\n",
      "100/100 [==============================] - 0s 206us/step - loss: 0.6283 - acc: 0.5700\n",
      "Epoch 6/50\n",
      "100/100 [==============================] - 0s 175us/step - loss: 0.6276 - acc: 0.5700\n",
      "Epoch 7/50\n",
      "100/100 [==============================] - 0s 173us/step - loss: 0.6270 - acc: 0.5700\n",
      "Epoch 8/50\n",
      "100/100 [==============================] - 0s 205us/step - loss: 0.6262 - acc: 0.5700\n",
      "Epoch 9/50\n",
      "100/100 [==============================] - 0s 242us/step - loss: 0.6256 - acc: 0.5700\n",
      "Epoch 10/50\n",
      "100/100 [==============================] - 0s 232us/step - loss: 0.6249 - acc: 0.5700\n",
      "Epoch 11/50\n",
      "100/100 [==============================] - 0s 162us/step - loss: 0.6241 - acc: 0.5700\n",
      "Epoch 12/50\n",
      "100/100 [==============================] - 0s 162us/step - loss: 0.6232 - acc: 0.5700\n",
      "Epoch 13/50\n",
      "100/100 [==============================] - 0s 528us/step - loss: 0.6224 - acc: 0.5700\n",
      "Epoch 14/50\n",
      "100/100 [==============================] - 0s 259us/step - loss: 0.6217 - acc: 0.5800\n",
      "Epoch 15/50\n",
      "100/100 [==============================] - 0s 200us/step - loss: 0.6210 - acc: 0.5800\n",
      "Epoch 16/50\n",
      "100/100 [==============================] - 0s 215us/step - loss: 0.6202 - acc: 0.5800\n",
      "Epoch 17/50\n",
      "100/100 [==============================] - 0s 393us/step - loss: 0.6195 - acc: 0.5900\n",
      "Epoch 18/50\n",
      "100/100 [==============================] - 0s 256us/step - loss: 0.6187 - acc: 0.5900\n",
      "Epoch 19/50\n",
      "100/100 [==============================] - 0s 524us/step - loss: 0.6181 - acc: 0.5900\n",
      "Epoch 20/50\n",
      "100/100 [==============================] - 0s 156us/step - loss: 0.6173 - acc: 0.5900\n",
      "Epoch 21/50\n",
      "100/100 [==============================] - 0s 186us/step - loss: 0.6166 - acc: 0.5900\n",
      "Epoch 22/50\n",
      "100/100 [==============================] - 0s 118us/step - loss: 0.6159 - acc: 0.5900\n",
      "Epoch 23/50\n",
      "100/100 [==============================] - 0s 124us/step - loss: 0.6151 - acc: 0.5900\n",
      "Epoch 24/50\n",
      "100/100 [==============================] - 0s 114us/step - loss: 0.6144 - acc: 0.5900\n",
      "Epoch 25/50\n",
      "100/100 [==============================] - 0s 159us/step - loss: 0.6137 - acc: 0.6000\n",
      "Epoch 26/50\n",
      "100/100 [==============================] - 0s 266us/step - loss: 0.6131 - acc: 0.6000\n",
      "Epoch 27/50\n",
      "100/100 [==============================] - 0s 314us/step - loss: 0.6124 - acc: 0.6000\n",
      "Epoch 28/50\n",
      "100/100 [==============================] - 0s 206us/step - loss: 0.6115 - acc: 0.6000\n",
      "Epoch 29/50\n",
      "100/100 [==============================] - 0s 172us/step - loss: 0.6108 - acc: 0.6000\n",
      "Epoch 30/50\n",
      "100/100 [==============================] - 0s 262us/step - loss: 0.6102 - acc: 0.6000\n",
      "Epoch 31/50\n",
      "100/100 [==============================] - 0s 312us/step - loss: 0.6095 - acc: 0.6000\n",
      "Epoch 32/50\n",
      "100/100 [==============================] - 0s 220us/step - loss: 0.6089 - acc: 0.5900\n",
      "Epoch 33/50\n",
      "100/100 [==============================] - 0s 215us/step - loss: 0.6080 - acc: 0.5900\n",
      "Epoch 34/50\n",
      "100/100 [==============================] - 0s 193us/step - loss: 0.6072 - acc: 0.5900\n",
      "Epoch 35/50\n",
      "100/100 [==============================] - 0s 192us/step - loss: 0.6064 - acc: 0.5900\n",
      "Epoch 36/50\n",
      "100/100 [==============================] - 0s 193us/step - loss: 0.6055 - acc: 0.5900\n",
      "Epoch 37/50\n",
      "100/100 [==============================] - 0s 109us/step - loss: 0.6046 - acc: 0.5900\n",
      "Epoch 38/50\n",
      "100/100 [==============================] - 0s 212us/step - loss: 0.6038 - acc: 0.5900\n",
      "Epoch 39/50\n",
      "100/100 [==============================] - 0s 238us/step - loss: 0.6030 - acc: 0.5900\n",
      "Epoch 40/50\n",
      "100/100 [==============================] - 0s 287us/step - loss: 0.6024 - acc: 0.5900\n",
      "Epoch 41/50\n",
      "100/100 [==============================] - 0s 145us/step - loss: 0.6017 - acc: 0.6000\n",
      "Epoch 42/50\n",
      "100/100 [==============================] - 0s 250us/step - loss: 0.6011 - acc: 0.6000\n",
      "Epoch 43/50\n",
      "100/100 [==============================] - 0s 308us/step - loss: 0.6006 - acc: 0.6000\n",
      "Epoch 44/50\n",
      "100/100 [==============================] - 0s 147us/step - loss: 0.5997 - acc: 0.6000\n",
      "Epoch 45/50\n",
      "100/100 [==============================] - 0s 284us/step - loss: 0.5991 - acc: 0.6000\n",
      "Epoch 46/50\n",
      "100/100 [==============================] - 0s 296us/step - loss: 0.5985 - acc: 0.6000\n",
      "Epoch 47/50\n",
      "100/100 [==============================] - 0s 121us/step - loss: 0.5978 - acc: 0.6000\n",
      "Epoch 48/50\n",
      "100/100 [==============================] - 0s 113us/step - loss: 0.5971 - acc: 0.6000\n",
      "Epoch 49/50\n",
      "100/100 [==============================] - 0s 393us/step - loss: 0.5966 - acc: 0.6000\n",
      "Epoch 50/50\n",
      "100/100 [==============================] - 0s 379us/step - loss: 0.5959 - acc: 0.6000\n"
     ]
    },
    {
     "data": {
      "text/plain": [
       "<keras.callbacks.History at 0x7f50ed8275f8>"
      ]
     },
     "execution_count": 16,
     "metadata": {},
     "output_type": "execute_result"
    }
   ],
   "source": [
    "model.fit(X,y,epochs=50)"
   ]
  },
  {
   "cell_type": "code",
   "execution_count": 17,
   "metadata": {},
   "outputs": [],
   "source": [
    "y_pred=model.predict(X)"
   ]
  },
  {
   "cell_type": "code",
   "execution_count": 20,
   "metadata": {},
   "outputs": [],
   "source": [
    "a=np.array([1,2,3,4,5])"
   ]
  },
  {
   "cell_type": "code",
   "execution_count": 21,
   "metadata": {},
   "outputs": [
    {
     "data": {
      "text/plain": [
       "array([False, False, False,  True,  True])"
      ]
     },
     "execution_count": 21,
     "metadata": {},
     "output_type": "execute_result"
    }
   ],
   "source": [
    "a>3\n"
   ]
  },
  {
   "cell_type": "code",
   "execution_count": 23,
   "metadata": {},
   "outputs": [],
   "source": [
    "final_pred=y_pred> 0.60"
   ]
  },
  {
   "cell_type": "code",
   "execution_count": null,
   "metadata": {},
   "outputs": [],
   "source": []
  },
  {
   "cell_type": "code",
   "execution_count": null,
   "metadata": {},
   "outputs": [],
   "source": []
  }
 ],
 "metadata": {
  "kernelspec": {
   "display_name": "Python 3",
   "language": "python",
   "name": "python3"
  },
  "language_info": {
   "codemirror_mode": {
    "name": "ipython",
    "version": 3
   },
   "file_extension": ".py",
   "mimetype": "text/x-python",
   "name": "python",
   "nbconvert_exporter": "python",
   "pygments_lexer": "ipython3",
   "version": "3.6.6"
  }
 },
 "nbformat": 4,
 "nbformat_minor": 2
}
