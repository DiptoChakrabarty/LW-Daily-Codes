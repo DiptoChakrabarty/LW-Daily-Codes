{
 "cells": [
  {
   "cell_type": "code",
   "execution_count": 1,
   "metadata": {},
   "outputs": [],
   "source": [
    "import cv2"
   ]
  },
  {
   "cell_type": "code",
   "execution_count": 2,
   "metadata": {},
   "outputs": [],
   "source": [
    "x=cv2.VideoCapture(0)"
   ]
  },
  {
   "cell_type": "code",
   "execution_count": 3,
   "metadata": {},
   "outputs": [],
   "source": [
    "ret , ph= x.read()"
   ]
  },
  {
   "cell_type": "code",
   "execution_count": 4,
   "metadata": {},
   "outputs": [
    {
     "data": {
      "text/plain": [
       "True"
      ]
     },
     "execution_count": 4,
     "metadata": {},
     "output_type": "execute_result"
    }
   ],
   "source": [
    "ret"
   ]
  },
  {
   "cell_type": "code",
   "execution_count": 5,
   "metadata": {},
   "outputs": [
    {
     "data": {
      "text/plain": [
       "array([[[126,  35,  44],\n",
       "        [130,  38,  49],\n",
       "        [127,  39,  53],\n",
       "        ...,\n",
       "        [ 88,  47,  52],\n",
       "        [ 88,  42,  48],\n",
       "        [ 92,  43,  51]],\n",
       "\n",
       "       [[143,  53,  59],\n",
       "        [141,  50,  59],\n",
       "        [129,  41,  54],\n",
       "        ...,\n",
       "        [ 87,  44,  47],\n",
       "        [ 89,  39,  43],\n",
       "        [ 95,  43,  50]],\n",
       "\n",
       "       [[186,  99, 103],\n",
       "        [186,  98, 104],\n",
       "        [175,  89,  97],\n",
       "        ...,\n",
       "        [ 87,  47,  48],\n",
       "        [ 92,  48,  49],\n",
       "        [ 96,  47,  49]],\n",
       "\n",
       "       ...,\n",
       "\n",
       "       [[199, 185, 186],\n",
       "        [196, 182, 184],\n",
       "        [200, 186, 188],\n",
       "        ...,\n",
       "        [ 35,  25,  95],\n",
       "        [ 30,  23,  96],\n",
       "        [ 30,  23,  98]],\n",
       "\n",
       "       [[199, 182, 186],\n",
       "        [196, 179, 183],\n",
       "        [200, 184, 185],\n",
       "        ...,\n",
       "        [ 33,  24,  97],\n",
       "        [ 32,  24,  95],\n",
       "        [ 32,  24,  95]],\n",
       "\n",
       "       [[197, 179, 186],\n",
       "        [197, 180, 184],\n",
       "        [201, 183, 182],\n",
       "        ...,\n",
       "        [ 32,  25, 100],\n",
       "        [ 34,  26,  97],\n",
       "        [ 33,  25,  95]]], dtype=uint8)"
      ]
     },
     "execution_count": 5,
     "metadata": {},
     "output_type": "execute_result"
    }
   ],
   "source": [
    "ph"
   ]
  },
  {
   "cell_type": "code",
   "execution_count": 6,
   "metadata": {},
   "outputs": [
    {
     "data": {
      "text/plain": [
       "True"
      ]
     },
     "execution_count": 6,
     "metadata": {},
     "output_type": "execute_result"
    }
   ],
   "source": [
    "cv2.imwrite(\"jup.png\",ph)"
   ]
  },
  {
   "cell_type": "code",
   "execution_count": 10,
   "metadata": {},
   "outputs": [],
   "source": [
    "x.release()"
   ]
  },
  {
   "cell_type": "code",
   "execution_count": 9,
   "metadata": {},
   "outputs": [],
   "source": [
    "cv2.imshow(\"hi\",ph)\n",
    "cv2.waitKey(7000)\n",
    "cv2.destroyAllWindows()"
   ]
  },
  {
   "cell_type": "markdown",
   "metadata": {},
   "source": [
    " "
   ]
  },
  {
   "cell_type": "code",
   "execution_count": null,
   "metadata": {},
   "outputs": [],
   "source": []
  },
  {
   "cell_type": "code",
   "execution_count": null,
   "metadata": {},
   "outputs": [],
   "source": []
  },
  {
   "cell_type": "code",
   "execution_count": null,
   "metadata": {},
   "outputs": [],
   "source": []
  },
  {
   "cell_type": "code",
   "execution_count": null,
   "metadata": {},
   "outputs": [],
   "source": []
  }
 ],
 "metadata": {
  "kernelspec": {
   "display_name": "Python 3",
   "language": "python",
   "name": "python3"
  },
  "language_info": {
   "codemirror_mode": {
    "name": "ipython",
    "version": 3
   },
   "file_extension": ".py",
   "mimetype": "text/x-python",
   "name": "python",
   "nbconvert_exporter": "python",
   "pygments_lexer": "ipython3",
   "version": "3.6.6"
  }
 },
 "nbformat": 4,
 "nbformat_minor": 2
}
