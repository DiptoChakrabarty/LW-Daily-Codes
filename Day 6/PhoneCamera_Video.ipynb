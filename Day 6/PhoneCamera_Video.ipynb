{
 "cells": [
  {
   "cell_type": "code",
   "execution_count": 9,
   "metadata": {},
   "outputs": [],
   "source": [
    "import requests\n",
    "import cv2\n",
    "import numpy as np"
   ]
  },
  {
   "cell_type": "code",
   "execution_count": 6,
   "metadata": {},
   "outputs": [],
   "source": [
    "url=\"http://192.168.43.1:8080/shot.jpg\""
   ]
  },
  {
   "cell_type": "code",
   "execution_count": 8,
   "metadata": {},
   "outputs": [],
   "source": [
    "while True:\n",
    "    data=requests.get(url)\n",
    "    myphoto=data.content\n",
    "    myphoto_a=bytearray(myphoto)\n",
    "    final=numpy.array(myphoto_a)\n",
    "    final_cl=cv2.imdecode(final,-1)\n",
    "    cv2.imshow(\"Live Video\",final_cl)\n",
    "    if(cv2.waitKey(1)==13):\n",
    "        break\n",
    "        \n",
    "cv2.destroyAllWindows()"
   ]
  },
  {
   "cell_type": "code",
   "execution_count": 11,
   "metadata": {},
   "outputs": [],
   "source": [
    "face=cv2.CascadeClassifier(\"haarcascade_frontalface_default.xml\")\n",
    "\n",
    "while True:\n",
    "    data=requests.get(url)\n",
    "    myphoto=data.content\n",
    "    photo_a=bytearray(myphoto)\n",
    "    num=np.array(photo_a)\n",
    "    final=cv2.imdecode(num,-1)\n",
    "    cr=face.detectMultiScale(final)\n",
    "    for (x,y,w,h) in cr:\n",
    "        vid=cv2.rectangle(final,(x,y),(x+w,y+h),(0,255,0),2)\n",
    "    cv2.imshow(\"Video\",vid)\n",
    "    if(cv2.waitKey(1)==13):\n",
    "        break\n",
    "        \n",
    "cv2.destroyAllWindows()\n",
    "    "
   ]
  },
  {
   "cell_type": "code",
   "execution_count": null,
   "metadata": {},
   "outputs": [],
   "source": []
  }
 ],
 "metadata": {
  "kernelspec": {
   "display_name": "Python 3",
   "language": "python",
   "name": "python3"
  },
  "language_info": {
   "codemirror_mode": {
    "name": "ipython",
    "version": 3
   },
   "file_extension": ".py",
   "mimetype": "text/x-python",
   "name": "python",
   "nbconvert_exporter": "python",
   "pygments_lexer": "ipython3",
   "version": "3.6.6"
  }
 },
 "nbformat": 4,
 "nbformat_minor": 2
}
